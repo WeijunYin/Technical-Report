{
 "cells": [
  {
   "cell_type": "markdown",
   "id": "545f6967",
   "metadata": {},
   "source": [
    "# 1, Install the Git client\n",
    "- 1,Download the Git Client in [git website](https://git-scm.com/downloads)\n",
    "- 2,Pycharm -> Setting -> Tool -> Terminal -> Shell path \n",
    "- 3, change the cmd.ext to sh.exe ( sh.exe is in the directory git/bin)"
   ]
  },
  {
   "cell_type": "markdown",
   "id": "61962da5",
   "metadata": {},
   "source": [
    "# 2, In Terminal of pycharm, type "
   ]
  },
  {
   "cell_type": "code",
   "execution_count": null,
   "id": "9969cd1f",
   "metadata": {},
   "outputs": [],
   "source": [
    "./shFile.sh"
   ]
  },
  {
   "cell_type": "markdown",
   "id": "232b39b0",
   "metadata": {},
   "source": [
    "# 3, Use the following code to carry out multiple experiments\n",
    "__please note that CUDA_VISIBLE_DEVICES = 1 means the second GPU. If you have only one GPU, please set CUDA_VISIBLE_DEVICES=0__"
   ]
  },
  {
   "cell_type": "code",
   "execution_count": null,
   "id": "70c8347e",
   "metadata": {},
   "outputs": [],
   "source": [
    "export CUDA_VISIBLE_DEVICES=1\n",
    "\n",
    "\n",
    "python3 -u run.py \\\n",
    "  --is_training 1 \\\n",
    "  --root_path ./dataset/ETT-small/ \\\n",
    "  --data_path ETTm1.csv \\\n",
    "  --model_id ETTm1_96_24 \\\n",
    "  --model Autoformer \\\n",
    "  --data ETTm1 \\\n",
    "  --features M \\\n",
    "  --seq_len 96 \\\n",
    "  --label_len 48 \\\n",
    "  --pred_len 24 \\\n",
    "  --e_layers 2 \\\n",
    "  --d_layers 1 \\\n",
    "  --factor 3 \\\n",
    "  --enc_in 7 \\\n",
    "  --dec_in 7 \\\n",
    "  --c_out 7 \\\n",
    "  --des 'Exp' \\\n",
    "  --itr 1\n",
    "\n",
    "python -u run.py \\\n",
    "  --is_training 1 \\\n",
    "  --root_path ./dataset/ETT-small/ \\\n",
    "  --data_path ETTm1.csv \\\n",
    "  --model_id ETTm1_96_48 \\\n",
    "  --model Autoformer \\\n",
    "  --data ETTm1 \\\n",
    "  --features M \\\n",
    "  --seq_len 96 \\\n",
    "  --label_len 48 \\\n",
    "  --pred_len 48 \\\n",
    "  --e_layers 2 \\\n",
    "  --d_layers 1 \\\n",
    "  --factor 3 \\\n",
    "  --enc_in 7 \\\n",
    "  --dec_in 7 \\\n",
    "  --c_out 7 \\\n",
    "  --des 'Exp' \\\n",
    "  --itr 1"
   ]
  }
 ],
 "metadata": {
  "kernelspec": {
   "display_name": "Python 3 (ipykernel)",
   "language": "python",
   "name": "python3"
  },
  "language_info": {
   "codemirror_mode": {
    "name": "ipython",
    "version": 3
   },
   "file_extension": ".py",
   "mimetype": "text/x-python",
   "name": "python",
   "nbconvert_exporter": "python",
   "pygments_lexer": "ipython3",
   "version": "3.9.13"
  }
 },
 "nbformat": 4,
 "nbformat_minor": 5
}
