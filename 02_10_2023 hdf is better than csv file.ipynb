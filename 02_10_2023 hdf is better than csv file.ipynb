{
 "cells": [
  {
   "cell_type": "markdown",
   "id": "eb173e6a",
   "metadata": {},
   "source": [
    "# hdf is better than csv file"
   ]
  },
  {
   "cell_type": "markdown",
   "id": "d12ddd2b",
   "metadata": {},
   "source": [
    "*In pycharm console*\n",
    "\n",
    "we can use following command to read csv file and convert it to the hdf file. Since hdf file could contain multiple\n",
    "dataFrame. Hence, we arbitrarily  pick up an index (here we use data)."
   ]
  },
  {
   "cell_type": "code",
   "execution_count": null,
   "id": "18b17028",
   "metadata": {},
   "outputs": [],
   "source": [
    "a = pd.read_csv('SZ300133.csv')\n",
    "a.to_hdf('sz300133.h5', 'data)"
   ]
  },
  {
   "cell_type": "markdown",
   "id": "69ee55f3",
   "metadata": {},
   "source": [
    "*In pycharm console*\n",
    "\n",
    "Now we can compare the speed of reading files. Don't omit the percentage symbol %."
   ]
  },
  {
   "cell_type": "code",
   "execution_count": null,
   "id": "f5deb691",
   "metadata": {},
   "outputs": [],
   "source": [
    "%timeit pd.read_csv('SZ300133.csv')\n",
    "%timeit pd.read_csv('sz300133.h5')"
   ]
  }
 ],
 "metadata": {
  "kernelspec": {
   "display_name": "Python 3 (ipykernel)",
   "language": "python",
   "name": "python3"
  },
  "language_info": {
   "codemirror_mode": {
    "name": "ipython",
    "version": 3
   },
   "file_extension": ".py",
   "mimetype": "text/x-python",
   "name": "python",
   "nbconvert_exporter": "python",
   "pygments_lexer": "ipython3",
   "version": "3.9.13"
  }
 },
 "nbformat": 4,
 "nbformat_minor": 5
}
