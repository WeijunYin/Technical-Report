{
 "cells": [
  {
   "cell_type": "markdown",
   "id": "66452621",
   "metadata": {},
   "source": [
    "# How to create the environment\n",
    "## export the environment"
   ]
  },
  {
   "cell_type": "code",
   "execution_count": null,
   "id": "569f7040",
   "metadata": {},
   "outputs": [],
   "source": [
    "conda activate My_environment\n",
    "conda env export --from-history>environment.yml"
   ]
  },
  {
   "cell_type": "markdown",
   "id": "3165fea3",
   "metadata": {},
   "source": [
    "## export the simple requirement.txt"
   ]
  },
  {
   "cell_type": "markdown",
   "id": "a68a8be3",
   "metadata": {},
   "source": [
    "*in Anaconda Promote*\n",
    "\n",
    "__in root directory__ since it will scan all file to find all  packages in the imported section"
   ]
  },
  {
   "cell_type": "code",
   "execution_count": null,
   "id": "12e656b1",
   "metadata": {},
   "outputs": [],
   "source": [
    "pipreqs ./ # error then consider the following command\n",
    "pipreeqs ./ --encoding=utf-8"
   ]
  },
  {
   "cell_type": "markdown",
   "id": "0ef65dff",
   "metadata": {},
   "source": [
    "## Clone the base: no need to reinstall pytorch"
   ]
  },
  {
   "cell_type": "code",
   "execution_count": null,
   "id": "eca698e7",
   "metadata": {},
   "outputs": [],
   "source": [
    "conda create --clone EnvName -n NameEnv"
   ]
  },
  {
   "cell_type": "markdown",
   "id": "907048b3",
   "metadata": {},
   "source": [
    "## Import the environment "
   ]
  },
  {
   "cell_type": "code",
   "execution_count": null,
   "id": "2d39e608",
   "metadata": {},
   "outputs": [],
   "source": [
    "conda env create -n ENVNAME --file ENV.yml\n",
    "conda create -n ENVNAME --file ENV.txt"
   ]
  },
  {
   "cell_type": "markdown",
   "id": "91fef60d",
   "metadata": {},
   "source": [
    "# Install the requirement and yml file"
   ]
  },
  {
   "cell_type": "code",
   "execution_count": null,
   "id": "0e248cd6",
   "metadata": {},
   "outputs": [],
   "source": [
    "pip install -r requirements.txt\n",
    "conda env update --file environment.yml"
   ]
  }
 ],
 "metadata": {
  "kernelspec": {
   "display_name": "Python 3 (ipykernel)",
   "language": "python",
   "name": "python3"
  },
  "language_info": {
   "codemirror_mode": {
    "name": "ipython",
    "version": 3
   },
   "file_extension": ".py",
   "mimetype": "text/x-python",
   "name": "python",
   "nbconvert_exporter": "python",
   "pygments_lexer": "ipython3",
   "version": "3.9.13"
  }
 },
 "nbformat": 4,
 "nbformat_minor": 5
}
