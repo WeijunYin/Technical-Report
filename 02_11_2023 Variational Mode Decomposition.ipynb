{
 "cells": [
  {
   "cell_type": "markdown",
   "id": "72ee5ade",
   "metadata": {},
   "source": [
    "Introduction to Variational Mode Decomposition(VMD)\n",
    "\n",
    "(https://vamsivk1995.medium.com/introduction-to-variational-mode-decomposition-vmd-d7100210a56a)"
   ]
  },
  {
   "cell_type": "code",
   "execution_count": null,
   "id": "fbe4c66c",
   "metadata": {},
   "outputs": [],
   "source": [
    "import matplotlib.pyplot as plt\n",
    "import numpy as np\n",
    "\n",
    "#. Time Domain 0 to T  \n",
    "T = 1000  \n",
    "fs = 1/T  \n",
    "t = np.arange(1,T+1)/T  \n",
    "  \n",
    "#. center frequencies of components  \n",
    "f_1 = 20  \n",
    "f_2 = 140  \n",
    "f_3 = 230  \n",
    "#. Synthesized Signals  \n",
    "v_1 = (np.cos(2*np.pi*f_1*t))  \n",
    "v_2 = (np.cos(2*np.pi*f_2*t))  \n",
    "v_3 = (np.cos(2*np.pi*f_3*t))\n",
    "#. adding them all\n",
    "v = v_1+ v_2+ v_3 + 0.1*np.random.randn(v_1.size)\n",
    "\n",
    "#. Plotting the signals\n",
    "plt.plot(t,v_1)\n",
    "plt.figure()\n",
    "plt.plot(t,v_2)\n",
    "plt.figure()\n",
    "plt.plot(t,v_3)\n"
   ]
  },
  {
   "cell_type": "code",
   "execution_count": null,
   "id": "d6c42aea",
   "metadata": {},
   "outputs": [],
   "source": [
    "#. adding them all\n",
    "v = v_1+ v_2+ v_3 + 0.1*np.random.randn(v_1.size)\n",
    "plt.figure()\n",
    "plt.plot(t,v_3)"
   ]
  },
  {
   "cell_type": "code",
   "execution_count": null,
   "id": "290fe6e5",
   "metadata": {},
   "outputs": [],
   "source": [
    "pip install vmdpy"
   ]
  },
  {
   "cell_type": "code",
   "execution_count": null,
   "id": "cc2f8f22",
   "metadata": {},
   "outputs": [],
   "source": [
    "import numpy as np  \n",
    "import matplotlib.pyplot as plt  \n",
    "from vmdpy import VMD\n",
    "\n",
    "#. Time Domain 0 to T  \n",
    "T = 1000  \n",
    "fs = 1/T  \n",
    "t = np.arange(1,T+1)/T  \n",
    "  \n",
    "\n",
    "#. center frequencies of components  \n",
    "f_1 = 20  \n",
    "f_2 = 140  \n",
    "f_3 = 230  \n",
    "\n",
    "#. Synthesized Signals  \n",
    "v_1 = (np.cos(2*np.pi*f_1*t))  \n",
    "v_2 = (np.cos(2*np.pi*f_2*t))  \n",
    "v_3 = (np.cos(2*np.pi*f_3*t))\n",
    "\n",
    "#. adding them all\n",
    "v = v_1+ v_2+ v_3 + 0.1*np.random.randn(v_1.size)"
   ]
  },
  {
   "cell_type": "code",
   "execution_count": null,
   "id": "f85e0781",
   "metadata": {},
   "outputs": [],
   "source": [
    "#. some sample parameters for VMD  \n",
    "alpha = 5000      # moderate bandwidth constraint  \n",
    "tau = 0           # noise-tolerance (no strict fidelity enforcement)  \n",
    "K = 3              # 3 modes  \n",
    "DC = 0             # no DC part imposed  \n",
    "init = 1           # initialize omegas uniformly  \n",
    "tol = 1e-7\n",
    "\n",
    "#. Run actual VMD code  \n",
    "u, u_hat, omega = VMD(v, alpha, tau, K, DC, init, tol)\n",
    "\n",
    "# plotting the modes\n",
    "plt.plot(u[0])\n",
    "plt.figure()\n",
    "plt.plot(u[1])\n",
    "plt.figure()\n",
    "plt.plot(u[2])\n",
    "plt.figure()\n",
    "\n",
    "omega[-1]/fs\n",
    "\n",
    "array([ 19.99782927, 139.98315825, 229.99435042])\n"
   ]
  }
 ],
 "metadata": {
  "kernelspec": {
   "display_name": "Python 3 (ipykernel)",
   "language": "python",
   "name": "python3"
  },
  "language_info": {
   "codemirror_mode": {
    "name": "ipython",
    "version": 3
   },
   "file_extension": ".py",
   "mimetype": "text/x-python",
   "name": "python",
   "nbconvert_exporter": "python",
   "pygments_lexer": "ipython3",
   "version": "3.9.13"
  }
 },
 "nbformat": 4,
 "nbformat_minor": 5
}
