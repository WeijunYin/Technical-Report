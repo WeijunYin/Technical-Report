{
 "cells": [
  {
   "cell_type": "markdown",
   "id": "e286a399",
   "metadata": {},
   "source": [
    "## 2-D convolutional layer"
   ]
  },
  {
   "cell_type": "code",
   "execution_count": 3,
   "id": "90bacd7e",
   "metadata": {},
   "outputs": [
    {
     "name": "stdout",
     "output_type": "stream",
     "text": [
      "tensor([[[[ 0.,  5., -2.],\n",
      "          [ 1., -6.,  2.],\n",
      "          [-6.,  6., -2.]]]], grad_fn=<ConvolutionBackward0>)\n"
     ]
    }
   ],
   "source": [
    "import torch\n",
    "from torch.nn.parameter import Parameter\n",
    "\n",
    "# A is the input, 4x4 tensor\n",
    "A = torch.tensor([[[[1, 2, 0, 1],\n",
    "                    [-1, 0, 3, 2],\n",
    "                    [1, 3, 0, 1],\n",
    "                    [2, -2, 1, 0]]]]).float()\n",
    "\n",
    "# input_feature=1\n",
    "# output_feature=1\n",
    "# kernel_size=2\n",
    "conv2d = torch.nn.Conv2d(1, 1, kernel_size = 2,\n",
    "                         bias = False)\n",
    "\n",
    "# kernel: 2x2 tensor\n",
    "conv2d.weight = Parameter(torch.tensor([[[[1, -1], [-1, 1]]]])\\\n",
    "                          .float())\n",
    "\n",
    "output = conv2d(A)\n",
    "\n",
    "print(output)"
   ]
  },
  {
   "cell_type": "markdown",
   "id": "250a2a5d",
   "metadata": {},
   "source": [
    "## 1-D convolutional layer"
   ]
  },
  {
   "cell_type": "code",
   "execution_count": 4,
   "id": "fa187175",
   "metadata": {},
   "outputs": [
    {
     "name": "stdout",
     "output_type": "stream",
     "text": [
      "tensor([[[-1.,  0., -1.,  0.],\n",
      "         [ 0.,  4.,  0.,  6.]]], grad_fn=<ConvolutionBackward0>)\n"
     ]
    }
   ],
   "source": [
    "import torch\n",
    "from torch.nn.parameter import Parameter\n",
    "\n",
    "A = torch.tensor([[[1, 0, 2, 0, 3, 0]]]).float()\n",
    "\n",
    "conv1d = torch.nn.Conv1d(1, out_channels = 2, kernel_size = 3,\n",
    "                         bias = False)\n",
    "conv1d.weight = Parameter(torch.tensor([[[1, 0, -1]], \\\n",
    "                                        [[0, 2, 0]]]).float())\n",
    "\n",
    "output = conv1d(A)\n",
    "\n",
    "print(output)\n"
   ]
  },
  {
   "cell_type": "markdown",
   "id": "ee1aff59",
   "metadata": {},
   "source": [
    "## zero-padding"
   ]
  },
  {
   "cell_type": "code",
   "execution_count": 5,
   "id": "4ed87ad4",
   "metadata": {},
   "outputs": [
    {
     "name": "stdout",
     "output_type": "stream",
     "text": [
      "[[[-1.0, 0.0, -1.0, 1.0, 2.0, -1.0]]]\n"
     ]
    }
   ],
   "source": [
    "import torch\n",
    "from torch.nn.parameter import Parameter\n",
    "\n",
    "A = torch.tensor([[[1, 0, 2, -1]]]).float()\n",
    "\n",
    "conv1d = torch.nn.Conv1d(1, 1, kernel_size = 3,\n",
    "                         bias = False, padding = 2)\n",
    "conv1d.weight = Parameter(torch.tensor([[[1, 0, -1]]]).\\\n",
    "                          float())\n",
    "\n",
    "output = conv1d(A)\n",
    "print(output.tolist())\n"
   ]
  },
  {
   "cell_type": "markdown",
   "id": "34c438ba",
   "metadata": {},
   "source": [
    "## stride"
   ]
  },
  {
   "cell_type": "code",
   "execution_count": 6,
   "id": "586e07c2",
   "metadata": {},
   "outputs": [
    {
     "name": "stdout",
     "output_type": "stream",
     "text": [
      "[[[-2.0, -2.0]]]\n"
     ]
    }
   ],
   "source": [
    "import torch\n",
    "from torch.nn.parameter import Parameter\n",
    "\n",
    "A = torch.tensor([[[1, 2, 3, 4, 5]]]).float()\n",
    "\n",
    "conv1d = torch.nn.Conv1d(1, 1, kernel_size = 3, \n",
    "                         bias = False, stride = 2)\n",
    "conv1d.weight = Parameter(torch.tensor([[[1, 0, -1]]]).\\\n",
    "                          float())\n",
    "\n",
    "output = conv1d(A)\n",
    "print(output.tolist())\n"
   ]
  },
  {
   "cell_type": "markdown",
   "id": "287d92ad",
   "metadata": {},
   "source": [
    "## max pooling"
   ]
  },
  {
   "cell_type": "code",
   "execution_count": 7,
   "id": "8121e4e1",
   "metadata": {},
   "outputs": [
    {
     "name": "stdout",
     "output_type": "stream",
     "text": [
      "[[[2.0, 1.0], [3.0, 5.0]]]\n"
     ]
    }
   ],
   "source": [
    "import torch\n",
    "\n",
    "A = torch.tensor([[\n",
    "    [1, 2, -1, 1],\n",
    "    [0, 1, -2, -1],\n",
    "    [3, 0, 5, 0],\n",
    "    [0, 1, 4, -3]\n",
    "]]).float()\n",
    "\n",
    "max_pool = torch.nn.MaxPool2d(2)\n",
    "out = max_pool(A)\n",
    "\n",
    "print(out.tolist())\n"
   ]
  },
  {
   "cell_type": "markdown",
   "id": "2479c0ac",
   "metadata": {},
   "source": [
    "## average pooling"
   ]
  },
  {
   "cell_type": "code",
   "execution_count": 8,
   "id": "57d79d11",
   "metadata": {},
   "outputs": [
    {
     "name": "stdout",
     "output_type": "stream",
     "text": [
      "[[[1.0, -0.75], [1.0, 1.5]]]\n"
     ]
    }
   ],
   "source": [
    "import torch\n",
    "\n",
    "A = torch.tensor([[\n",
    "    [1, 2, -1, 1],\n",
    "    [0, 1, -2, -1],\n",
    "    [3, 0, 5, 0],\n",
    "    [0, 1, 4, -3]\n",
    "]]).float()\n",
    "\n",
    "avg_pool = torch.nn.AvgPool2d(2)\n",
    "out = avg_pool(A)\n",
    "\n",
    "print(out.tolist())"
   ]
  },
  {
   "cell_type": "markdown",
   "id": "240b4582",
   "metadata": {},
   "source": [
    "## dropout"
   ]
  },
  {
   "cell_type": "code",
   "execution_count": 9,
   "id": "f0c25fdc",
   "metadata": {},
   "outputs": [
    {
     "name": "stdout",
     "output_type": "stream",
     "text": [
      "Initial Tensor: tensor([5., 9., 4., 8., 3.])\n",
      "Dropout Train: tensor([10., 18.,  0., 16.,  6.])\n",
      "Dropout Eval: tensor([5., 9., 4., 8., 3.])\n"
     ]
    }
   ],
   "source": [
    "import torch\n",
    "from torch.nn import Dropout\n",
    "\n",
    "torch.manual_seed(1)\n",
    "\n",
    "t = torch.randint(10, (5,)).float()\n",
    "print(f'Initial Tensor: {t}')\n",
    "\n",
    "dropout = Dropout(p = .5)\n",
    "\n",
    "dropout.train()\n",
    "r = dropout(t)\n",
    "print(f'Dropout Train: {r}')\n",
    "\n",
    "dropout.eval()\n",
    "r = dropout(t)\n",
    "print(f'Dropout Eval: {r}')\n"
   ]
  },
  {
   "cell_type": "markdown",
   "id": "87c0daa6",
   "metadata": {},
   "source": [
    "## how to use the ReLU function"
   ]
  },
  {
   "cell_type": "code",
   "execution_count": 14,
   "id": "4dd905af",
   "metadata": {},
   "outputs": [
    {
     "data": {
      "image/png": "[encoded data removed]",
      "text/plain": [
       "<Figure size 640x480 with 1 Axes>"
      ]
     },
     "metadata": {},
     "output_type": "display_data"
    },
    {
     "data": {
      "text/plain": [
       "<Figure size 700x100 with 0 Axes>"
      ]
     },
     "metadata": {},
     "output_type": "display_data"
    }
   ],
   "source": [
    "import torch\n",
    "import matplotlib.pyplot as plt\n",
    "\n",
    "x = torch.linspace(-10, 10,100)\n",
    "relu = torch.nn.ReLU()\n",
    "y = relu(x)\n",
    "\n",
    "plt.title('ReLU')\n",
    "plt.plot(x.tolist(), y.tolist())\n",
    "plt.show()"
   ]
  },
  {
   "cell_type": "markdown",
   "id": "940251d6",
   "metadata": {},
   "source": [
    "## sigmoid function"
   ]
  },
  {
   "cell_type": "code",
   "execution_count": 16,
   "id": "acf8bde2",
   "metadata": {},
   "outputs": [
    {
     "data": {
      "image/png": "[encoded data removed]",
      "text/plain": [
       "<Figure size 640x480 with 1 Axes>"
      ]
     },
     "metadata": {},
     "output_type": "display_data"
    }
   ],
   "source": [
    "import torch\n",
    "import matplotlib.pyplot as plt\n",
    "\n",
    "x = torch.linspace(-10, 10,100)\n",
    "relu = torch.nn.Sigmoid()\n",
    "y = relu(x)\n",
    "\n",
    "plt.title('Sigmoid')\n",
    "plt.plot(x.tolist(), y.tolist())\n",
    "plt.show()\n"
   ]
  },
  {
   "cell_type": "markdown",
   "id": "281038d8",
   "metadata": {},
   "source": [
    "## tanh function"
   ]
  },
  {
   "cell_type": "code",
   "execution_count": 17,
   "id": "699b379c",
   "metadata": {},
   "outputs": [
    {
     "data": {
      "image/png": "[encoded data removed]",
      "text/plain": [
       "<Figure size 640x480 with 1 Axes>"
      ]
     },
     "metadata": {},
     "output_type": "display_data"
    }
   ],
   "source": [
    "import torch\n",
    "import matplotlib.pyplot as plt\n",
    "\n",
    "x = torch.linspace(-10, 10,100)\n",
    "relu = torch.nn.Tanh()\n",
    "y = relu(x)\n",
    "\n",
    "plt.title('Tanh')\n",
    "plt.plot(x.tolist(), y.tolist())\n",
    "plt.show()"
   ]
  }
 ],
 "metadata": {
  "kernelspec": {
   "display_name": "Python 3 (ipykernel)",
   "language": "python",
   "name": "python3"
  },
  "language_info": {
   "codemirror_mode": {
    "name": "ipython",
    "version": 3
   },
   "file_extension": ".py",
   "mimetype": "text/x-python",
   "name": "python",
   "nbconvert_exporter": "python",
   "pygments_lexer": "ipython3",
   "version": "3.9.13"
  }
 },
 "nbformat": 4,
 "nbformat_minor": 5
}
