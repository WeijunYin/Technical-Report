{
 "cells": [
  {
   "cell_type": "markdown",
   "id": "5d0d018e",
   "metadata": {},
   "source": [
    "# Summary of today"
   ]
  },
  {
   "cell_type": "markdown",
   "id": "461f754d",
   "metadata": {},
   "source": [
    "- Learn how to use Zotero\n",
    "- Learn how to use Weight & Bias\n",
    "- Learn how to use Mathpix\n",
    "- Learn how to use jupyter notebook\n",
    "- Discard chinese language"
   ]
  },
  {
   "cell_type": "markdown",
   "id": "d3e2a2cd",
   "metadata": {},
   "source": [
    "## How to Use Zotero"
   ]
  },
  {
   "cell_type": "markdown",
   "id": "f48afc6d",
   "metadata": {},
   "source": [
    "Compared to endnote, Zotero has many advantanges\n",
    "- Zotero is free, so that we needn't find the cracked version\n",
    "- Zotero has nice chrome extensions, so that we can direct import the bib and pdf file.\n",
    "- Zotero has nice add-ons, which make Zotero more useful.\n",
    "- Zotero has android app, so that I can sync my file in my cell phone.\n",
    "- Zotero is simple and easy to use."
   ]
  },
  {
   "cell_type": "markdown",
   "id": "374e7929",
   "metadata": {},
   "source": [
    "### 1, Download Zotero \n",
    "We can download from the [Zotero Website](https://www.zotero.org/). Then you can create an account, which is useful to sync your Zotero on phone.\n",
    "\n",
    "You can get all info by putting the pdf file in the Zotero.\n",
    "### 2, Download the Chrome Extension\n",
    "You can find the chrome Extension: Zotero Connector.\n",
    "This extension could let you directly import all information (containing pdf) into Zeteor.\n",
    "\n",
    "### 3, Download the add-ons and install them in the Zotero \n",
    "You can find many add-ons on github. There are three especially useful add-ons that we could integrate them into the Zotero software. \n",
    "- [zotero scholar citation](https://github.com/beloglazov/zotero-scholar-citations): show the google citations\n",
    "- [zotero full creator](https://github.com/normanfoster/zotero-fullcreator): show all authors\n",
    "- [zotfile](https://github.com/jlegewie/zotfile): you can directly add the pdf file and Zotero will recoginize the title of this paper"
   ]
  },
  {
   "cell_type": "markdown",
   "id": "865485e7",
   "metadata": {},
   "source": [
    "## How to use Weight & Bias\n",
    "Weight & Bias has many advantages\n",
    "- It could record these hyperparameters and performance metrics. It could track your experiment.\n",
    "- It could automatically tune these hyperparameters. \n",
    "- It could compare the difference of two codes. It is always used to track your modification."
   ]
  }
 ],
 "metadata": {
  "kernelspec": {
   "display_name": "Python 3 (ipykernel)",
   "language": "python",
   "name": "python3"
  },
  "language_info": {
   "codemirror_mode": {
    "name": "ipython",
    "version": 3
   },
   "file_extension": ".py",
   "mimetype": "text/x-python",
   "name": "python",
   "nbconvert_exporter": "python",
   "pygments_lexer": "ipython3",
   "version": "3.9.13"
  }
 },
 "nbformat": 4,
 "nbformat_minor": 5
}
