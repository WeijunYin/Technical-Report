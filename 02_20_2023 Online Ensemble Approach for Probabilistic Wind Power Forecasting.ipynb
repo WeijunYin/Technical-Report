{
 "cells": [
  {
   "cell_type": "markdown",
   "id": "e66f11d3",
   "metadata": {},
   "source": [
    "# Quantile Regression Averaging (QRA)\n",
    "## List of Reference\n",
    "1. Alessandrini, S., L. Delle Monache, S. Sperati, and G. Cervone. “An Analog Ensemble for Short-Term Probabilistic Solar Power Forecast.” Applied Energy 157 (November 1, 2015): 95–110. https://doi.org/10.1016/j.apenergy.2015.08.011.\n",
    "2. Anand, Pritam, Reshma Rastogi, and Suresh Chandra. “A New Asymmetric ϵ-Insensitive Pinball Loss Function Based Support Vector Quantile Regression Model.” Applied Soft Computing 94 (September 1, 2020): 106473. https://doi.org/10.1016/j.asoc.2020.106473.\n",
    "3. Fu, Yuwei, Di Wu, and Benoit Boulet. “Reinforcement Learning Based Dynamic Model Combination for Time Series Forecasting.” In Proceedings of the First MiniCon Conference, 2022. https://aaai-2022.virtualchair.net/poster_aaai8424.\n",
    "4. Hong, Tao, and Shu Fan. “Probabilistic Electric Load Forecasting: A Tutorial Review.” International Journal of Forecasting 32, no. 3 (July 1, 2016): 914–38. https://doi.org/10.1016/j.ijforecast.2015.11.011.\n",
    "5. Krannichfeldt, Leandro Von, Yi Wang, Thierry Zufferey, and Gabriela Hug. “Online Ensemble Approach for Probabilistic Wind Power Forecasting.” IEEE Transactions on Sustainable Energy 13, no. 2 (April 2022): 1221–33. https://doi.org/10.1109/TSTE.2021.3124228.\n",
    "6. Liu, Bidong, Jakub Nowotarski, Tao Hong, and Rafał Weron. “Probabilistic Load Forecasting via Quantile Regression Averaging on Sister Forecasts.” IEEE Transactions on Smart Grid 8, no. 2 (March 2017): 730–37. https://doi.org/10.1109/TSG.2015.2437877.\n",
    "7. Maciejowska, Katarzyna, Jakub Nowotarski, and Rafał Weron. “Probabilistic Forecasting of Electricity Spot Prices Using Factor Quantile Regression Averaging.” International Journal of Forecasting 32, no. 3 (July 1, 2016): 957–65. https://doi.org/10.1016/j.ijforecast.2014.12.004.\n",
    "8. Møller, Jan Kloppenborg, Henrik Aalborg Nielsen, and Henrik Madsen. “Time-Adaptive Quantile Regression.” Computational Statistics & Data Analysis 52, no. 3 (January 1, 2008): 1292–1303. https://doi.org/10.1016/j.csda.2007.06.027.\n",
    "9. Nielsen, Henrik Aalborg, Henrik Madsen, and Torben Skov Nielsen. “Using Quantile Regression to Extend an Existing Wind Power Forecasting System with Probabilistic Forecasts.” Wind Energy 9, no. 1–2 (2006): 95–108. https://doi.org/10.1002/we.180.\n",
    "10. Nowotarski, Jakub, Eran Raviv, Stefan Trück, and Rafał Weron. “An Empirical Comparison of Alternative Schemes for Combining Electricity Spot Price Forecasts.” Energy Economics 46 (November 1, 2014): 395–412. https://doi.org/10.1016/j.eneco.2014.07.014.\n",
    "11. Von Krannichfeldt, Leandro, Yi Wang, and Gabriela Hug. “Online Ensemble Learning for Load Forecasting.” IEEE Transactions on Power Systems 36, no. 1 (January 2021): 545–48. https://doi.org/10.1109/TPWRS.2020.3036230.\n",
    "12. Wang, Pu, Bidong Liu, and Tao Hong. “Electric Load Forecasting with Recency Effect: A Big Data Approach.” International Journal of Forecasting 32, no. 3 (July 1, 2016): 585–97. https://doi.org/10.1016/j.ijforecast.2015.09.006.\n",
    "## Code Reference\n",
    "https://ideas.repec.org/s/wuu/hscode.html\n",
    "\n"
   ]
  },
  {
   "cell_type": "markdown",
   "id": "46a77e35",
   "metadata": {},
   "source": [
    "**Online Ensemble Approach for Probabilistic Wind Power Forecasting**\n",
    "论文解读"
   ]
  },
  {
   "cell_type": "code",
   "execution_count": null,
   "id": "cb55d615",
   "metadata": {},
   "outputs": [],
   "source": [
    "把训练集合分成"
   ]
  },
  {
   "attachments": {
    "image.png": {
     "image/png": "[encoded data removed]"
    }
   },
   "cell_type": "markdown",
   "id": "3dc6915d",
   "metadata": {},
   "source": [
    "![image.png](attachment:image.png)"
   ]
  },
  {
   "cell_type": "markdown",
   "id": "2a933a47",
   "metadata": {},
   "source": [
    "$$\n",
    "G_q(\\mathbf{x})=\\sum_{m=1}^M \\omega_q^{(m)} f^{(m)}(\\mathbf{x})\n",
    "$$"
   ]
  },
  {
   "cell_type": "markdown",
   "id": "c1797aa9",
   "metadata": {},
   "source": [
    "$$\n",
    "G_{t, q}(\\mathrm{x})=\\sum_{m=1}^M \\omega_{t, q}^{(m)} f^{(m)}(\\mathrm{x})\n",
    "$$"
   ]
  },
  {
   "cell_type": "markdown",
   "id": "321e8fa3",
   "metadata": {},
   "source": [
    "$$\n",
    "\\begin{aligned}\n",
    "& \\boldsymbol{\\omega}_{t+1, q}=\\arg \\min _{\\boldsymbol{\\omega}_q}\\left[\\frac{1}{2}\\left\\|\\boldsymbol{\\omega}_q-\\boldsymbol{\\omega}_{t, q}\\right\\|_2^2+C \\xi\\right] \\\\\n",
    "& \\text { s.t. } \\quad \\ell_{\\varepsilon, q}\\left(y_t, \\boldsymbol{\\omega}_q \\boldsymbol{\\beta}_t\\right) \\leq \\xi, \\quad \\xi \\geq 0\n",
    "\\end{aligned}\n",
    "$$"
   ]
  },
  {
   "cell_type": "markdown",
   "id": "d2927a80",
   "metadata": {},
   "source": [
    "$$\n",
    "\\begin{aligned}\n",
    "G(\\boldsymbol{\\omega}, \\xi, \\tau, \\lambda) & =\\frac{1}{2}\\left\\|\\boldsymbol{\\omega}-\\boldsymbol{\\omega}_t\\right\\|_2^2+C \\xi+\\tau\\left(\\ell_{\\varepsilon, q}\\left(y_t, \\boldsymbol{\\omega} \\boldsymbol{\\beta}_t\\right)-\\xi\\right)-\\lambda \\xi \\\\\n",
    "& =\\frac{1}{2}\\left\\|\\boldsymbol{\\omega}-\\boldsymbol{\\omega}_t\\right\\|_2^2+\\xi(C-\\tau-\\lambda)+\\tau \\ell_{\\varepsilon, q}\\left(y_t, \\boldsymbol{\\omega} \\boldsymbol{\\beta}_t\\right)\n",
    "\\end{aligned}\n",
    "$$"
   ]
  }
 ],
 "metadata": {
  "kernelspec": {
   "display_name": "Python 3 (ipykernel)",
   "language": "python",
   "name": "python3"
  },
  "language_info": {
   "codemirror_mode": {
    "name": "ipython",
    "version": 3
   },
   "file_extension": ".py",
   "mimetype": "text/x-python",
   "name": "python",
   "nbconvert_exporter": "python",
   "pygments_lexer": "ipython3",
   "version": "3.9.13"
  }
 },
 "nbformat": 4,
 "nbformat_minor": 5
}
