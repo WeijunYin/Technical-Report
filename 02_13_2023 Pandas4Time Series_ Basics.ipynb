{
 "cells": [
  {
   "cell_type": "markdown",
   "id": "1c1f1cc9",
   "metadata": {},
   "source": [
    " # pandas.read_csv(): Basics\n",
    " - A Series1 is a one-dimensional array with a time label for each row. \n",
    " - Using __squeeze=True__ We can use this to load the time series as a Series object, instead of a DataFrame"
   ]
  },
  {
   "cell_type": "markdown",
   "id": "3d93b26f",
   "metadata": {},
   "source": [
    "# Basic Knowledge\n",
    "__Attention__:\n",
    "- pd.read_csv will automatically add the column index\n",
    "- the type of read_csv's result: DataFrame\n",
    "- obj.dtype: could return the type"
   ]
  },
  {
   "cell_type": "code",
   "execution_count": 1,
   "id": "57131b00",
   "metadata": {},
   "outputs": [
    {
     "name": "stdout",
     "output_type": "stream",
     "text": [
      "       Month  #Passengers\n",
      "0    1949-01          112\n",
      "1    1949-02          118\n",
      "2    1949-03          132\n",
      "3    1949-04          129\n",
      "4    1949-05          121\n",
      "..       ...          ...\n",
      "139  1960-08          606\n",
      "140  1960-09          508\n",
      "141  1960-10          461\n",
      "142  1960-11          390\n",
      "143  1960-12          432\n",
      "\n",
      "[144 rows x 2 columns]\n",
      "<class 'pandas.core.frame.DataFrame'>\n",
      "Month          object\n",
      "#Passengers     int64\n",
      "dtype: object\n"
     ]
    }
   ],
   "source": [
    "import pandas as pd\n",
    "obj=pd.read_csv('AirPassengers.csv')\n",
    "print(obj)\n",
    "print(type(obj))\n",
    "print(obj.dtypes)"
   ]
  },
  {
   "cell_type": "markdown",
   "id": "20a98e14",
   "metadata": {},
   "source": [
    "# Parameter: header and names\n",
    "\n",
    "- __header=None__: No header and the function will add the column index automatically\n",
    "\n",
    "- __header=0__: No column index added\n",
    "\n",
    "- __index_col=0__: __1__ choose the 1st column to index the series, \n",
    "\n",
    "- __index_col=0__: __2__ no row index is added now"
   ]
  },
  {
   "cell_type": "code",
   "execution_count": 3,
   "id": "4c53d132",
   "metadata": {},
   "outputs": [
    {
     "name": "stdout",
     "output_type": "stream",
     "text": [
      "         #Passengers\n",
      "Month               \n",
      "1949-01          112\n",
      "1949-02          118\n",
      "1949-03          132\n",
      "1949-04          129\n",
      "1949-05          121\n",
      "...              ...\n",
      "1960-08          606\n",
      "1960-09          508\n",
      "1960-10          461\n",
      "1960-11          390\n",
      "1960-12          432\n",
      "\n",
      "[144 rows x 1 columns]\n"
     ]
    }
   ],
   "source": [
    "obj_2=pd.read_csv('AirPassengers.csv',header=0, index_col=0)\n",
    "print(obj_2)"
   ]
  },
  {
   "cell_type": "markdown",
   "id": "6a1caa3e",
   "metadata": {},
   "source": [
    "# Parameter: parse_dates\n",
    "\n",
    "- the first columns contains dates that need to be parsed"
   ]
  },
  {
   "cell_type": "code",
   "execution_count": 5,
   "id": "cddbe3f0",
   "metadata": {},
   "outputs": [
    {
     "name": "stdout",
     "output_type": "stream",
     "text": [
      "Month          object\n",
      "#Passengers     int64\n",
      "dtype: object\n"
     ]
    }
   ],
   "source": [
    "obj_3=pd.read_csv('AirPassengers.csv',parse_dates=True)\n",
    "print(obj_3.dtypes)"
   ]
  },
  {
   "cell_type": "markdown",
   "id": "18535ab0",
   "metadata": {},
   "source": [
    "# Parameter: squeeze\n",
    "\n",
    "- __squeeze=True__: Apart from the time label, we have only one data column\n",
    "\n",
    "- Then, this will return the __Series Object__ Type rather than the __DataFrame__"
   ]
  },
  {
   "cell_type": "code",
   "execution_count": 4,
   "id": "8774818b",
   "metadata": {},
   "outputs": [
    {
     "name": "stdout",
     "output_type": "stream",
     "text": [
      "Month          object\n",
      "#Passengers     int64\n",
      "dtype: object\n"
     ]
    }
   ],
   "source": [
    "obj_4=pd.read_csv('AirPassengers.csv',squeeze=True)\n",
    "print(obj_3.dtypes)"
   ]
  }
 ],
 "metadata": {
  "kernelspec": {
   "display_name": "Python 3 (ipykernel)",
   "language": "python",
   "name": "python3"
  },
  "language_info": {
   "codemirror_mode": {
    "name": "ipython",
    "version": 3
   },
   "file_extension": ".py",
   "mimetype": "text/x-python",
   "name": "python",
   "nbconvert_exporter": "python",
   "pygments_lexer": "ipython3",
   "version": "3.9.13"
  }
 },
 "nbformat": 4,
 "nbformat_minor": 5
}
