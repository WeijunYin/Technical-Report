{
 "cells": [
  {
   "cell_type": "markdown",
   "id": "77dfc72d",
   "metadata": {},
   "source": [
    "# Signal Decomposition"
   ]
  },
  {
   "cell_type": "markdown",
   "id": "600fd9d0",
   "metadata": {},
   "source": [
    "## Import the dataset"
   ]
  },
  {
   "cell_type": "code",
   "execution_count": null,
   "id": "7b2bde89",
   "metadata": {},
   "outputs": [],
   "source": [
    "import pandas as pd\n",
    "df = pd.read_csv('AirPassengers.csv',parse_dates=True,\n",
    "                 index_col='Month')\n",
    "\n",
    "# set the figure size\n",
    "ax = df['#Passengers'].plot(figsize = (12,6))\n",
    "\n",
    "ax.autoscale(axis = 'Both',tight = True)\n",
    "ax.set(ylabel='ok',xlabel='x',title='x');"
   ]
  },
  {
   "cell_type": "markdown",
   "id": "159b683b",
   "metadata": {},
   "source": [
    "##  Additive Model"
   ]
  },
  {
   "cell_type": "code",
   "execution_count": null,
   "id": "0a880177",
   "metadata": {},
   "outputs": [],
   "source": [
    "Time series = Level + Trend + Seasonality + Noise"
   ]
  },
  {
   "cell_type": "code",
   "execution_count": null,
   "id": "13ff46a9",
   "metadata": {},
   "outputs": [],
   "source": [
    "from statsmodels.tsa.seasonal import seasonal_decompose\n",
    "\n",
    "result_add = seasonal_decompose(df['#Passengers'],\n",
    "                                model = 'add')\n",
    "\n",
    "result_add.seasonal.plot();\n",
    "result_add.trend.plot();\n",
    "result_add.resid.plot();\n",
    "\n",
    "# the orginal signal\n",
    "result_add.observed.plot()\n",
    "\n",
    "# this could be acchived by\n",
    "# result_add.plot()"
   ]
  },
  {
   "cell_type": "markdown",
   "id": "82c1ca2b",
   "metadata": {},
   "source": [
    "## Multiplicative Model"
   ]
  },
  {
   "cell_type": "code",
   "execution_count": null,
   "id": "68e5be2d",
   "metadata": {},
   "outputs": [],
   "source": [
    "Time series = Level * Trend * Seasonality * Noise"
   ]
  },
  {
   "cell_type": "code",
   "execution_count": null,
   "id": "a74f0ad7",
   "metadata": {},
   "outputs": [],
   "source": [
    "result_mul = seasonal_decompose(df['#Passengers'],\n",
    "                                model = 'mul')\n",
    "\n",
    "result_mul.trend.plot()\n",
    "result_mul.seasonal.plot()\n",
    "result_mul.resid.plot()\n",
    "\n",
    "# the orginal signal\n",
    "result_mul.observed.plot()\n",
    "\n",
    "# this could be acchived by\n",
    "#result_mul.plot();"
   ]
  }
 ],
 "metadata": {
  "kernelspec": {
   "display_name": "Python 3 (ipykernel)",
   "language": "python",
   "name": "python3"
  },
  "language_info": {
   "codemirror_mode": {
    "name": "ipython",
    "version": 3
   },
   "file_extension": ".py",
   "mimetype": "text/x-python",
   "name": "python",
   "nbconvert_exporter": "python",
   "pygments_lexer": "ipython3",
   "version": "3.9.13"
  }
 },
 "nbformat": 4,
 "nbformat_minor": 5
}
