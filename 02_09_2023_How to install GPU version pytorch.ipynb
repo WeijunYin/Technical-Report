{
 "cells": [
  {
   "cell_type": "markdown",
   "id": "8f8fe2ee",
   "metadata": {},
   "source": [
    "# How to install GPU version pytorch"
   ]
  },
  {
   "cell_type": "markdown",
   "id": "c12f615b",
   "metadata": {},
   "source": [
    "## Find the driver's version\n",
    "*in cmd: find the Driver API* \n",
    "\n",
    "nvidia-smi\n",
    "\n",
    "*in power shell: find the runtime API*\n",
    "\n",
    "nvcc -V\n",
    "\n",
    "__Driver Version: 527.56__\n",
    "\n",
    "## Find the corresponding cuda version\n",
    "\n",
    "Nvidia control panel -> system information -> NVCuda64 DLL, 12.0.94 driver\n",
    "\n",
    "Install Cuda, and don't tick off the __visual studio integration__ and __Nsight__\n",
    "\n",
    "\n",
    "## Install GPU version pytorch\n",
    "Due to the existence of package:pytorch-mutex, the conda will find the cpu alternative if no GPU version is found. Hence, the default pytorch installed by conda is __CPU__ version. \n",
    "\n",
    "### How to solve this?\n",
    "Installed the local package. \n",
    "\n",
    "- Enter this link: https://download.pytorch.org/whl/torch_stable.html\n",
    "- Download this corresponding version: [cu117/torch-1.13.0%2Bcu117-cp39-cp39-win_amd64.whl](https://download.pytorch.org/whl/cu117/torch-1.13.0%2Bcu117-cp39-cp39-win_amd64.whl)\n",
    "        - cu117: cuda 11.7\n",
    "        - cp39: python version 3.9\n",
    "        - win amd64: 64-bit windows\n",
    "- Install the python (not all python=3.9 is ok; python==3.9.2 doesn't work but python=3.9.13 could work well)\n",
    "- Install the local package"
   ]
  },
  {
   "cell_type": "code",
   "execution_count": null,
   "id": "18c12b13",
   "metadata": {},
   "outputs": [],
   "source": [
    "D:\n",
    "cd D:\\WPF\\local_package\n",
    "pip install torch-1.13.0+cu117-cp39-cp39-win_amd64.whl\n",
    "pip install torchaudio-0.13.0+cu117-cp39-cp39-win_amd64.whl\n",
    "pip install torchvision-0.14.0+cu117-cp39-cp39-win_amd64.whl"
   ]
  },
  {
   "cell_type": "markdown",
   "id": "2ffc2320",
   "metadata": {},
   "source": [
    "## Test if GPU version pytorch is successfully installed?\n",
    "*in anaconda promote*"
   ]
  },
  {
   "cell_type": "code",
   "execution_count": null,
   "id": "d01146f0",
   "metadata": {},
   "outputs": [],
   "source": [
    ">>python\n",
    ">>import torch\n",
    ">> torch.cuda.is_avaliable()\n",
    ">> True\n",
    ">> torch.__version__\n",
    ">>'1.13.0+cu117'\n",
    ">> print(torch.version.cuda)\n",
    ">> 11.7"
   ]
  }
 ],
 "metadata": {
  "kernelspec": {
   "display_name": "Python 3 (ipykernel)",
   "language": "python",
   "name": "python3"
  },
  "language_info": {
   "codemirror_mode": {
    "name": "ipython",
    "version": 3
   },
   "file_extension": ".py",
   "mimetype": "text/x-python",
   "name": "python",
   "nbconvert_exporter": "python",
   "pygments_lexer": "ipython3",
   "version": "3.9.13"
  }
 },
 "nbformat": 4,
 "nbformat_minor": 5
}
